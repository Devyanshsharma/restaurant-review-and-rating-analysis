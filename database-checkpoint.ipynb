{
 "cells": [
  {
   "cell_type": "code",
   "execution_count": 5,
   "id": "81e8bc5f-8d4b-4684-a7e1-8c42e718ec43",
   "metadata": {
    "scrolled": true
   },
   "outputs": [
    {
     "name": "stdout",
     "output_type": "stream",
     "text": [
      "Requirement already satisfied: pandas in c:\\users\\devyansh sharma\\appdata\\local\\programs\\python\\python39\\lib\\site-packages (2.2.3)\n",
      "Requirement already satisfied: numpy>=1.22.4 in c:\\users\\devyansh sharma\\appdata\\local\\programs\\python\\python39\\lib\\site-packages (from pandas) (1.26.4)\n",
      "Requirement already satisfied: python-dateutil>=2.8.2 in c:\\users\\devyansh sharma\\appdata\\local\\programs\\python\\python39\\lib\\site-packages (from pandas) (2.9.0.post0)\n",
      "Requirement already satisfied: pytz>=2020.1 in c:\\users\\devyansh sharma\\appdata\\local\\programs\\python\\python39\\lib\\site-packages (from pandas) (2024.2)\n",
      "Requirement already satisfied: tzdata>=2022.7 in c:\\users\\devyansh sharma\\appdata\\local\\programs\\python\\python39\\lib\\site-packages (from pandas) (2024.2)\n",
      "Requirement already satisfied: six>=1.5 in c:\\users\\devyansh sharma\\appdata\\local\\programs\\python\\python39\\lib\\site-packages (from python-dateutil>=2.8.2->pandas) (1.16.0)\n"
     ]
    },
    {
     "name": "stderr",
     "output_type": "stream",
     "text": [
      "\n",
      "[notice] A new release of pip is available: 24.0 -> 24.2\n",
      "[notice] To update, run: python.exe -m pip install --upgrade pip\n"
     ]
    }
   ],
   "source": [
    "! pip install pandas"
   ]
  },
  {
   "cell_type": "code",
   "execution_count": 7,
   "id": "7e70b8d8-2796-4769-b811-a0006df90e05",
   "metadata": {},
   "outputs": [
    {
     "name": "stdout",
     "output_type": "stream",
     "text": [
      "Requirement already satisfied: pip in c:\\users\\devyansh sharma\\appdata\\local\\programs\\python\\python39\\lib\\site-packages (24.0)\n",
      "Collecting pip\n",
      "  Downloading pip-24.2-py3-none-any.whl.metadata (3.6 kB)\n",
      "Downloading pip-24.2-py3-none-any.whl (1.8 MB)\n",
      "   ---------------------------------------- 0.0/1.8 MB ? eta -:--:--\n",
      "   ---- ----------------------------------- 0.2/1.8 MB 6.1 MB/s eta 0:00:01\n",
      "   ----------------- ---------------------- 0.8/1.8 MB 10.1 MB/s eta 0:00:01\n",
      "   --------------------------------- ------ 1.5/1.8 MB 12.0 MB/s eta 0:00:01\n",
      "   ---------------------------------------- 1.8/1.8 MB 11.5 MB/s eta 0:00:00\n",
      "Installing collected packages: pip\n",
      "  Attempting uninstall: pip\n",
      "    Found existing installation: pip 24.0\n",
      "    Uninstalling pip-24.0:\n",
      "      Successfully uninstalled pip-24.0\n",
      "Successfully installed pip-24.2\n",
      "Note: you may need to restart the kernel to use updated packages.\n"
     ]
    }
   ],
   "source": [
    "pip install --upgrade pip"
   ]
  },
  {
   "cell_type": "code",
   "execution_count": 3,
   "id": "04d4d64d-697f-4881-af66-e69217d67f6e",
   "metadata": {},
   "outputs": [],
   "source": [
    "import pandas as pd\n"
   ]
  },
  {
   "cell_type": "code",
   "execution_count": 12,
   "id": "c430d502-285d-4217-8d8b-24e656516b45",
   "metadata": {},
   "outputs": [
    {
     "name": "stdout",
     "output_type": "stream",
     "text": [
      "Collecting ipython-sql\n",
      "  Downloading ipython_sql-0.5.0-py3-none-any.whl.metadata (17 kB)\n",
      "Collecting prettytable (from ipython-sql)\n",
      "  Downloading prettytable-3.11.0-py3-none-any.whl.metadata (30 kB)\n",
      "Requirement already satisfied: ipython in c:\\users\\devyansh sharma\\appdata\\local\\programs\\python\\python39\\lib\\site-packages (from ipython-sql) (8.18.1)\n",
      "Collecting sqlalchemy>=2.0 (from ipython-sql)\n",
      "  Downloading SQLAlchemy-2.0.35-cp39-cp39-win_amd64.whl.metadata (9.9 kB)\n",
      "Collecting sqlparse (from ipython-sql)\n",
      "  Downloading sqlparse-0.5.1-py3-none-any.whl.metadata (3.9 kB)\n",
      "Requirement already satisfied: six in c:\\users\\devyansh sharma\\appdata\\local\\programs\\python\\python39\\lib\\site-packages (from ipython-sql) (1.16.0)\n",
      "Collecting ipython-genutils (from ipython-sql)\n",
      "  Downloading ipython_genutils-0.2.0-py2.py3-none-any.whl.metadata (755 bytes)\n",
      "Requirement already satisfied: typing-extensions>=4.6.0 in c:\\users\\devyansh sharma\\appdata\\local\\programs\\python\\python39\\lib\\site-packages (from sqlalchemy>=2.0->ipython-sql) (4.12.2)\n",
      "Collecting greenlet!=0.4.17 (from sqlalchemy>=2.0->ipython-sql)\n",
      "  Downloading greenlet-3.1.1-cp39-cp39-win_amd64.whl.metadata (3.9 kB)\n",
      "Requirement already satisfied: decorator in c:\\users\\devyansh sharma\\appdata\\local\\programs\\python\\python39\\lib\\site-packages (from ipython->ipython-sql) (4.4.2)\n",
      "Requirement already satisfied: jedi>=0.16 in c:\\users\\devyansh sharma\\appdata\\local\\programs\\python\\python39\\lib\\site-packages (from ipython->ipython-sql) (0.19.1)\n",
      "Requirement already satisfied: matplotlib-inline in c:\\users\\devyansh sharma\\appdata\\local\\programs\\python\\python39\\lib\\site-packages (from ipython->ipython-sql) (0.1.7)\n",
      "Requirement already satisfied: prompt-toolkit<3.1.0,>=3.0.41 in c:\\users\\devyansh sharma\\appdata\\local\\programs\\python\\python39\\lib\\site-packages (from ipython->ipython-sql) (3.0.48)\n",
      "Requirement already satisfied: pygments>=2.4.0 in c:\\users\\devyansh sharma\\appdata\\local\\programs\\python\\python39\\lib\\site-packages (from ipython->ipython-sql) (2.18.0)\n",
      "Requirement already satisfied: stack-data in c:\\users\\devyansh sharma\\appdata\\local\\programs\\python\\python39\\lib\\site-packages (from ipython->ipython-sql) (0.6.3)\n",
      "Requirement already satisfied: traitlets>=5 in c:\\users\\devyansh sharma\\appdata\\local\\programs\\python\\python39\\lib\\site-packages (from ipython->ipython-sql) (5.14.3)\n",
      "Requirement already satisfied: exceptiongroup in c:\\users\\devyansh sharma\\appdata\\local\\programs\\python\\python39\\lib\\site-packages (from ipython->ipython-sql) (1.2.2)\n",
      "Requirement already satisfied: colorama in c:\\users\\devyansh sharma\\appdata\\local\\programs\\python\\python39\\lib\\site-packages (from ipython->ipython-sql) (0.4.6)\n",
      "Requirement already satisfied: wcwidth in c:\\users\\devyansh sharma\\appdata\\local\\programs\\python\\python39\\lib\\site-packages (from prettytable->ipython-sql) (0.2.13)\n",
      "Requirement already satisfied: parso<0.9.0,>=0.8.3 in c:\\users\\devyansh sharma\\appdata\\local\\programs\\python\\python39\\lib\\site-packages (from jedi>=0.16->ipython->ipython-sql) (0.8.4)\n",
      "Requirement already satisfied: executing>=1.2.0 in c:\\users\\devyansh sharma\\appdata\\local\\programs\\python\\python39\\lib\\site-packages (from stack-data->ipython->ipython-sql) (2.1.0)\n",
      "Requirement already satisfied: asttokens>=2.1.0 in c:\\users\\devyansh sharma\\appdata\\local\\programs\\python\\python39\\lib\\site-packages (from stack-data->ipython->ipython-sql) (2.4.1)\n",
      "Requirement already satisfied: pure-eval in c:\\users\\devyansh sharma\\appdata\\local\\programs\\python\\python39\\lib\\site-packages (from stack-data->ipython->ipython-sql) (0.2.3)\n",
      "Downloading ipython_sql-0.5.0-py3-none-any.whl (20 kB)\n",
      "Downloading SQLAlchemy-2.0.35-cp39-cp39-win_amd64.whl (2.1 MB)\n",
      "   ---------------------------------------- 0.0/2.1 MB ? eta -:--:--\n",
      "   ----- ---------------------------------- 0.3/2.1 MB ? eta -:--:--\n",
      "   ---------- ----------------------------- 0.5/2.1 MB 2.1 MB/s eta 0:00:01\n",
      "   ---------- ----------------------------- 0.5/2.1 MB 2.1 MB/s eta 0:00:01\n",
      "   --------------- ------------------------ 0.8/2.1 MB 987.4 kB/s eta 0:00:02\n",
      "   --------------- ------------------------ 0.8/2.1 MB 987.4 kB/s eta 0:00:02\n",
      "   -------------------- ------------------- 1.0/2.1 MB 751.1 kB/s eta 0:00:02\n",
      "   -------------------- ------------------- 1.0/2.1 MB 751.1 kB/s eta 0:00:02\n",
      "   ------------------------- -------------- 1.3/2.1 MB 771.6 kB/s eta 0:00:02\n",
      "   ------------------------- -------------- 1.3/2.1 MB 771.6 kB/s eta 0:00:02\n",
      "   ----------------------------------- ---- 1.8/2.1 MB 853.0 kB/s eta 0:00:01\n",
      "   ---------------------------------------- 2.1/2.1 MB 913.4 kB/s eta 0:00:00\n",
      "Downloading ipython_genutils-0.2.0-py2.py3-none-any.whl (26 kB)\n",
      "Downloading prettytable-3.11.0-py3-none-any.whl (28 kB)\n",
      "Downloading sqlparse-0.5.1-py3-none-any.whl (44 kB)\n",
      "Downloading greenlet-3.1.1-cp39-cp39-win_amd64.whl (298 kB)\n",
      "Installing collected packages: ipython-genutils, sqlparse, prettytable, greenlet, sqlalchemy, ipython-sql\n",
      "Successfully installed greenlet-3.1.1 ipython-genutils-0.2.0 ipython-sql-0.5.0 prettytable-3.11.0 sqlalchemy-2.0.35 sqlparse-0.5.1\n"
     ]
    }
   ],
   "source": [
    "!pip install ipython-sql"
   ]
  },
  {
   "cell_type": "code",
   "execution_count": 4,
   "id": "910d5f74-d201-4190-883d-7b5969810ba1",
   "metadata": {},
   "outputs": [],
   "source": [
    "import json"
   ]
  },
  {
   "cell_type": "code",
   "execution_count": 13,
   "id": "576526e5-1c69-4551-a9c3-e0e8e4e57b62",
   "metadata": {},
   "outputs": [
    {
     "name": "stdout",
     "output_type": "stream",
     "text": [
      "Requirement already satisfied: sqlalchemy in c:\\users\\devyansh sharma\\appdata\\local\\programs\\python\\python39\\lib\\site-packages (2.0.35)\n",
      "Requirement already satisfied: typing-extensions>=4.6.0 in c:\\users\\devyansh sharma\\appdata\\local\\programs\\python\\python39\\lib\\site-packages (from sqlalchemy) (4.12.2)\n",
      "Requirement already satisfied: greenlet!=0.4.17 in c:\\users\\devyansh sharma\\appdata\\local\\programs\\python\\python39\\lib\\site-packages (from sqlalchemy) (3.1.1)\n"
     ]
    }
   ],
   "source": [
    "!pip install sqlalchemy\n"
   ]
  },
  {
   "cell_type": "code",
   "execution_count": 18,
   "id": "3151a7c4-05c5-48fb-ad69-43f30f7c99f9",
   "metadata": {},
   "outputs": [],
   "source": [
    "from sqlalchemy import create_engine"
   ]
  },
  {
   "cell_type": "code",
   "execution_count": 6,
   "id": "39984439-6793-4cec-8714-2eaf3f5c6e96",
   "metadata": {},
   "outputs": [],
   "source": [
    "with open('yelp_academic_dataset_business.json','r',encoding='utf-8')as f:\n",
    "    business_data=[json.loads(line) for line in f]\n",
    "business_df=pd.DataFrame(business_data)"
   ]
  },
  {
   "cell_type": "code",
   "execution_count": 7,
   "id": "0c06e52b-df89-4025-9b7b-19230f76b183",
   "metadata": {},
   "outputs": [],
   "source": [
    "with open('yelp_academic_dataset_checkin.json','r',encoding='utf-8')as f:\n",
    "    checkin_data=[json.loads(line) for line in f]\n",
    "checkin_df=pd.DataFrame(checkin_data)"
   ]
  },
  {
   "cell_type": "code",
   "execution_count": 8,
   "id": "cf257f0b-f23b-46d7-a742-c4262c465dbb",
   "metadata": {},
   "outputs": [
    {
     "name": "stdout",
     "output_type": "stream",
     "text": [
      "Total rows loaded: 6990280\n"
     ]
    }
   ],
   "source": [
    "# with open('yelp_academic_dataset_review.json','r',encoding='utf-8')as f:\n",
    "#     review_data=[json.loads(line) for line in f]\n",
    "# review_df=pd.DataFrame(review_data)\n",
    "rfs=[]\n",
    "with open('yelp_academic_dataset_review.json','r',encoding='utf-8') as f:\n",
    "    data=[]\n",
    "    for line in f:\n",
    "        data.append(json.loads(line))\n",
    "        if len(data)%10000==0:\n",
    "            temp_df=pd.DataFrame(data)\n",
    "            rfs.append(temp_df)\n",
    "            data=[]\n",
    "if data:\n",
    "    temp_df=pd.DataFrame(data)\n",
    "    rfs.append(temp_df)\n",
    "review_df=pd.concat(rfs,ignore_index=True)\n",
    "print(f\"Total rows loaded: {len(review_df)}\")"
   ]
  },
  {
   "cell_type": "code",
   "execution_count": 7,
   "id": "f2660ec2-68f3-4575-b004-079c8f5cc131",
   "metadata": {},
   "outputs": [],
   "source": [
    "with open('yelp_academic_dataset_tip.json','r',encoding='utf-8')as f:\n",
    "    tip_data=[json.loads(line)for line in f]\n",
    "tip_df=pd.DataFrame(tip_data)\n"
   ]
  },
  {
   "cell_type": "code",
   "execution_count": 16,
   "id": "ae1456df-d90a-40cd-8aa5-5a74bc7fe983",
   "metadata": {},
   "outputs": [
    {
     "name": "stdout",
     "output_type": "stream",
     "text": [
      "Total rows loaded: 1987897\n"
     ]
    }
   ],
   "source": [
    "# with open('yelp_acadimic_dataset_user.json','r',encoding='utf-8')as f:\n",
    "#     user_data=[json.loads(line) for line in f]\n",
    "# user_df=df.DataFrame(user_data)\n",
    "\n",
    "# Step 1: Create an empty list to collect DataFrames or a final DataFrame to append to\n",
    "dfs = []  # List to store DataFrames\n",
    "\n",
    "# Step 2: Use a generator to read the file line by line to minimize memory usage\n",
    "with open('yelp_academic_dataset_user.json', 'r', encoding='utf-8') as f:\n",
    "    data = []  # Temporary list to hold chunk data\n",
    "    for line in f:\n",
    "        data.append(json.loads(line))\n",
    "        \n",
    "        # Process data in chunks to avoid loading everything at once\n",
    "        if len(data) % 10000 == 0:\n",
    "            # Step 3: Convert the chunk to a DataFrame and process the data\n",
    "            temp_df = pd.DataFrame(data)\n",
    "            \n",
    "            # Append the DataFrame to the list of DataFrames\n",
    "            dfs.append(temp_df)\n",
    "            # Clear the data list to free memory\n",
    "            data = []\n",
    "# Final step: Process remaining data after the loop (if any)\n",
    "if data:\n",
    "    temp_df = pd.DataFrame(data)\n",
    "    dfs.append(temp_df)\n",
    "\n",
    "# Step 4: Concatenate all DataFrames into a single DataFrame\n",
    "user_df = pd.concat(dfs, ignore_index=True)\n",
    "\n",
    "# Now user_df contains all the rows from the JSON file\n",
    "print(f\"Total rows loaded: {len(user_df)}\")\n"
   ]
  },
  {
   "cell_type": "code",
   "execution_count": 2,
   "id": "41aeed0f-a923-4967-8907-2fb19b3dda3d",
   "metadata": {},
   "outputs": [
    {
     "ename": "NameError",
     "evalue": "name 'business_df' is not defined",
     "output_type": "error",
     "traceback": [
      "\u001b[1;31m---------------------------------------------------------------------------\u001b[0m",
      "\u001b[1;31mNameError\u001b[0m                                 Traceback (most recent call last)",
      "Cell \u001b[1;32mIn[2], line 1\u001b[0m\n\u001b[1;32m----> 1\u001b[0m \u001b[38;5;28mprint\u001b[39m(\u001b[43mbusiness_df\u001b[49m\u001b[38;5;241m.\u001b[39mshape)\n\u001b[0;32m      2\u001b[0m \u001b[38;5;28mprint\u001b[39m(checkin_df\u001b[38;5;241m.\u001b[39mshape)\n\u001b[0;32m      3\u001b[0m \u001b[38;5;28mprint\u001b[39m(review_df\u001b[38;5;241m.\u001b[39mshape)\n",
      "\u001b[1;31mNameError\u001b[0m: name 'business_df' is not defined"
     ]
    }
   ],
   "source": [
    "print(business_df.shape)\n",
    "print(checkin_df.shape)\n",
    "print(review_df.shape)\n",
    "print(tip_df.shape)\n",
    "print(user_df.shape)"
   ]
  },
  {
   "cell_type": "code",
   "execution_count": 14,
   "id": "8dd2acfa-f1e4-496a-bf46-d31fca125bc9",
   "metadata": {},
   "outputs": [
    {
     "name": "stdout",
     "output_type": "stream",
     "text": [
      "(1987897, 22)\n"
     ]
    }
   ],
   "source": [
    "print(user_df.shape)"
   ]
  },
  {
   "cell_type": "code",
   "execution_count": 19,
   "id": "d3140cc3-24d5-4d06-a110-05e0810a2f44",
   "metadata": {},
   "outputs": [],
   "source": [
    "business_df.drop(['attributes','hours'],axis=1,inplace=True)"
   ]
  },
  {
   "cell_type": "code",
   "execution_count": 20,
   "id": "9172950f-fc27-4bf8-9cdd-5073174be498",
   "metadata": {},
   "outputs": [],
   "source": [
    "engine=create_engine('sqlite:///yelp.db')\n"
   ]
  },
  {
   "cell_type": "code",
   "execution_count": null,
   "id": "f1bb42be-f50d-4896-8260-25cbf02b3ca0",
   "metadata": {},
   "outputs": [],
   "source": [
    "engine"
   ]
  },
  {
   "cell_type": "code",
   "execution_count": 26,
   "id": "d772d7d1-7c34-4861-8a8d-938488dab0fb",
   "metadata": {},
   "outputs": [
    {
     "name": "stdout",
     "output_type": "stream",
     "text": [
      "Data loaded into table 'business' successfully.\n",
      "Data loaded into table 'review' successfully.\n",
      "Data loaded into table 'checkin' successfully.\n",
      "Data loaded into table 'tip' successfully.\n",
      "Data loaded into table 'user' successfully.\n"
     ]
    }
   ],
   "source": [
    "def load_dataframe(df, table_name, engine):\n",
    "    \"\"\"Load DataFrame into SQL table in batches.\"\"\"\n",
    "    try:\n",
    "        df.to_sql(table_name, con=engine, if_exists='replace', index=False, chunksize=10000)\n",
    "        print(f\"Data loaded into table '{table_name}' successfully.\")\n",
    "    except Exception as e:\n",
    "        print(f\"Error loading data into table '{table_name}': {e}\")\n",
    "\n",
    "# Load the DataFrames\n",
    "load_dataframe(business_df, 'business', engine)\n",
    "load_dataframe(review_df, 'review', engine)\n",
    "load_dataframe(checkin_df, 'checkin', engine)  # Corrected spelling\n",
    "load_dataframe(tip_df, 'tip', engine)\n",
    "load_dataframe(user_df, 'user', engine)\n"
   ]
  },
  {
   "cell_type": "code",
   "execution_count": 13,
   "id": "f65015e8-37bc-4c85-88f9-c3cb7842ac6c",
   "metadata": {},
   "outputs": [
    {
     "name": "stdout",
     "output_type": "stream",
     "text": [
      "Requirement already satisfied: numpy in c:\\users\\devyansh sharma\\appdata\\local\\programs\\python\\python39\\lib\\site-packages (1.26.4)\n"
     ]
    }
   ],
   "source": [
    "! pip install numpy"
   ]
  },
  {
   "cell_type": "code",
   "execution_count": 15,
   "id": "552ae6ca-09d7-4dc3-9d33-e7896b86865c",
   "metadata": {},
   "outputs": [
    {
     "name": "stdout",
     "output_type": "stream",
     "text": [
      "Requirement already satisfied: matplotlib in c:\\users\\devyansh sharma\\appdata\\local\\programs\\python\\python39\\lib\\site-packages (3.9.2)\n",
      "Requirement already satisfied: contourpy>=1.0.1 in c:\\users\\devyansh sharma\\appdata\\local\\programs\\python\\python39\\lib\\site-packages (from matplotlib) (1.3.0)\n",
      "Requirement already satisfied: cycler>=0.10 in c:\\users\\devyansh sharma\\appdata\\local\\programs\\python\\python39\\lib\\site-packages (from matplotlib) (0.12.1)\n",
      "Requirement already satisfied: fonttools>=4.22.0 in c:\\users\\devyansh sharma\\appdata\\local\\programs\\python\\python39\\lib\\site-packages (from matplotlib) (4.54.1)\n",
      "Requirement already satisfied: kiwisolver>=1.3.1 in c:\\users\\devyansh sharma\\appdata\\local\\programs\\python\\python39\\lib\\site-packages (from matplotlib) (1.4.7)\n",
      "Requirement already satisfied: numpy>=1.23 in c:\\users\\devyansh sharma\\appdata\\local\\programs\\python\\python39\\lib\\site-packages (from matplotlib) (1.26.4)\n",
      "Requirement already satisfied: packaging>=20.0 in c:\\users\\devyansh sharma\\appdata\\local\\programs\\python\\python39\\lib\\site-packages (from matplotlib) (24.1)\n",
      "Requirement already satisfied: pillow>=8 in c:\\users\\devyansh sharma\\appdata\\local\\programs\\python\\python39\\lib\\site-packages (from matplotlib) (10.2.0)\n",
      "Requirement already satisfied: pyparsing>=2.3.1 in c:\\users\\devyansh sharma\\appdata\\local\\programs\\python\\python39\\lib\\site-packages (from matplotlib) (3.1.4)\n",
      "Requirement already satisfied: python-dateutil>=2.7 in c:\\users\\devyansh sharma\\appdata\\local\\programs\\python\\python39\\lib\\site-packages (from matplotlib) (2.9.0.post0)\n",
      "Requirement already satisfied: importlib-resources>=3.2.0 in c:\\users\\devyansh sharma\\appdata\\local\\programs\\python\\python39\\lib\\site-packages (from matplotlib) (6.4.5)\n",
      "Requirement already satisfied: zipp>=3.1.0 in c:\\users\\devyansh sharma\\appdata\\local\\programs\\python\\python39\\lib\\site-packages (from importlib-resources>=3.2.0->matplotlib) (3.20.2)\n",
      "Requirement already satisfied: six>=1.5 in c:\\users\\devyansh sharma\\appdata\\local\\programs\\python\\python39\\lib\\site-packages (from python-dateutil>=2.7->matplotlib) (1.16.0)\n"
     ]
    }
   ],
   "source": [
    "! pip install matplotlib"
   ]
  },
  {
   "cell_type": "code",
   "execution_count": 14,
   "id": "f2460943-56d1-429a-8983-5c87be18c626",
   "metadata": {},
   "outputs": [],
   "source": []
  },
  {
   "cell_type": "code",
   "execution_count": null,
   "id": "275df113-a7a6-4cd2-9cca-a4153a2f4b0d",
   "metadata": {},
   "outputs": [],
   "source": []
  },
  {
   "cell_type": "code",
   "execution_count": null,
   "id": "f1aca30e-0764-4f41-999e-22aa6e3ea834",
   "metadata": {},
   "outputs": [],
   "source": []
  }
 ],
 "metadata": {
  "kernelspec": {
   "display_name": "Python 3 (ipykernel)",
   "language": "python",
   "name": "python3"
  },
  "language_info": {
   "codemirror_mode": {
    "name": "ipython",
    "version": 3
   },
   "file_extension": ".py",
   "mimetype": "text/x-python",
   "name": "python",
   "nbconvert_exporter": "python",
   "pygments_lexer": "ipython3",
   "version": "3.9.13"
  }
 },
 "nbformat": 4,
 "nbformat_minor": 5
}
